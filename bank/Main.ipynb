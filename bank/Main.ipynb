{
 "cells": [
  {
   "cell_type": "code",
   "execution_count": 96,
   "id": "cc6dc44b",
   "metadata": {},
   "outputs": [],
   "source": [
    "import pandas as pd\n",
    "import os\n",
    "from sklearn.model_selection import train_test_split\n",
    "from sklearn.linear_model import LogisticRegression\n",
    "from sklearn import preprocessing\n",
    "import numpy as np"
   ]
  },
  {
   "cell_type": "code",
   "execution_count": 97,
   "id": "08abaa4e",
   "metadata": {},
   "outputs": [],
   "source": [
    "\n",
    "csv_file =os.getcwd()+\"\\\\data\\\\bank\\\\bank.csv\"\n",
    "df = pd.read_csv(csv_file, sep=\";\")\n"
   ]
  },
  {
   "cell_type": "code",
   "execution_count": 102,
   "id": "6a9238e5",
   "metadata": {},
   "outputs": [
    {
     "data": {
      "text/plain": [
       "age          0\n",
       "job          0\n",
       "marital      0\n",
       "education    0\n",
       "default      0\n",
       "balance      0\n",
       "housing      0\n",
       "loan         0\n",
       "contact      0\n",
       "day          0\n",
       "month        0\n",
       "duration     0\n",
       "campaign     0\n",
       "pdays        0\n",
       "previous     0\n",
       "poutcome     0\n",
       "y            0\n",
       "dtype: int64"
      ]
     },
     "execution_count": 102,
     "metadata": {},
     "output_type": "execute_result"
    }
   ],
   "source": [
    "df.isna().sum()"
   ]
  },
  {
   "cell_type": "code",
   "execution_count": 103,
   "id": "5f5ce61a",
   "metadata": {},
   "outputs": [],
   "source": [
    "le = preprocessing.LabelEncoder().fit(df['loan'])\n",
    "df['loan'] = le.transform(df['loan'])\n",
    "le = LabelEncoder()\n",
    "df['education'] = le.fit_transform(df['education'])"
   ]
  },
  {
   "cell_type": "code",
   "execution_count": 104,
   "id": "321bf190",
   "metadata": {},
   "outputs": [
    {
     "data": {
      "text/html": [
       "<div>\n",
       "<style scoped>\n",
       "    .dataframe tbody tr th:only-of-type {\n",
       "        vertical-align: middle;\n",
       "    }\n",
       "\n",
       "    .dataframe tbody tr th {\n",
       "        vertical-align: top;\n",
       "    }\n",
       "\n",
       "    .dataframe thead th {\n",
       "        text-align: right;\n",
       "    }\n",
       "</style>\n",
       "<table border=\"1\" class=\"dataframe\">\n",
       "  <thead>\n",
       "    <tr style=\"text-align: right;\">\n",
       "      <th></th>\n",
       "      <th>age</th>\n",
       "      <th>education</th>\n",
       "      <th>balance</th>\n",
       "      <th>loan</th>\n",
       "      <th>day</th>\n",
       "      <th>duration</th>\n",
       "      <th>campaign</th>\n",
       "      <th>pdays</th>\n",
       "      <th>previous</th>\n",
       "    </tr>\n",
       "  </thead>\n",
       "  <tbody>\n",
       "    <tr>\n",
       "      <th>count</th>\n",
       "      <td>4521.000000</td>\n",
       "      <td>4521.000000</td>\n",
       "      <td>4521.000000</td>\n",
       "      <td>4521.000000</td>\n",
       "      <td>4521.000000</td>\n",
       "      <td>4521.000000</td>\n",
       "      <td>4521.000000</td>\n",
       "      <td>4521.000000</td>\n",
       "      <td>4521.000000</td>\n",
       "    </tr>\n",
       "    <tr>\n",
       "      <th>mean</th>\n",
       "      <td>41.170095</td>\n",
       "      <td>1.231365</td>\n",
       "      <td>1422.657819</td>\n",
       "      <td>0.152842</td>\n",
       "      <td>15.915284</td>\n",
       "      <td>263.961292</td>\n",
       "      <td>2.793630</td>\n",
       "      <td>39.766645</td>\n",
       "      <td>0.542579</td>\n",
       "    </tr>\n",
       "    <tr>\n",
       "      <th>std</th>\n",
       "      <td>10.576211</td>\n",
       "      <td>0.748744</td>\n",
       "      <td>3009.638142</td>\n",
       "      <td>0.359875</td>\n",
       "      <td>8.247667</td>\n",
       "      <td>259.856633</td>\n",
       "      <td>3.109807</td>\n",
       "      <td>100.121124</td>\n",
       "      <td>1.693562</td>\n",
       "    </tr>\n",
       "    <tr>\n",
       "      <th>min</th>\n",
       "      <td>19.000000</td>\n",
       "      <td>0.000000</td>\n",
       "      <td>-3313.000000</td>\n",
       "      <td>0.000000</td>\n",
       "      <td>1.000000</td>\n",
       "      <td>4.000000</td>\n",
       "      <td>1.000000</td>\n",
       "      <td>-1.000000</td>\n",
       "      <td>0.000000</td>\n",
       "    </tr>\n",
       "    <tr>\n",
       "      <th>25%</th>\n",
       "      <td>33.000000</td>\n",
       "      <td>1.000000</td>\n",
       "      <td>69.000000</td>\n",
       "      <td>0.000000</td>\n",
       "      <td>9.000000</td>\n",
       "      <td>104.000000</td>\n",
       "      <td>1.000000</td>\n",
       "      <td>-1.000000</td>\n",
       "      <td>0.000000</td>\n",
       "    </tr>\n",
       "    <tr>\n",
       "      <th>50%</th>\n",
       "      <td>39.000000</td>\n",
       "      <td>1.000000</td>\n",
       "      <td>444.000000</td>\n",
       "      <td>0.000000</td>\n",
       "      <td>16.000000</td>\n",
       "      <td>185.000000</td>\n",
       "      <td>2.000000</td>\n",
       "      <td>-1.000000</td>\n",
       "      <td>0.000000</td>\n",
       "    </tr>\n",
       "    <tr>\n",
       "      <th>75%</th>\n",
       "      <td>49.000000</td>\n",
       "      <td>2.000000</td>\n",
       "      <td>1480.000000</td>\n",
       "      <td>0.000000</td>\n",
       "      <td>21.000000</td>\n",
       "      <td>329.000000</td>\n",
       "      <td>3.000000</td>\n",
       "      <td>-1.000000</td>\n",
       "      <td>0.000000</td>\n",
       "    </tr>\n",
       "    <tr>\n",
       "      <th>max</th>\n",
       "      <td>87.000000</td>\n",
       "      <td>3.000000</td>\n",
       "      <td>71188.000000</td>\n",
       "      <td>1.000000</td>\n",
       "      <td>31.000000</td>\n",
       "      <td>3025.000000</td>\n",
       "      <td>50.000000</td>\n",
       "      <td>871.000000</td>\n",
       "      <td>25.000000</td>\n",
       "    </tr>\n",
       "  </tbody>\n",
       "</table>\n",
       "</div>"
      ],
      "text/plain": [
       "               age    education       balance         loan          day  \\\n",
       "count  4521.000000  4521.000000   4521.000000  4521.000000  4521.000000   \n",
       "mean     41.170095     1.231365   1422.657819     0.152842    15.915284   \n",
       "std      10.576211     0.748744   3009.638142     0.359875     8.247667   \n",
       "min      19.000000     0.000000  -3313.000000     0.000000     1.000000   \n",
       "25%      33.000000     1.000000     69.000000     0.000000     9.000000   \n",
       "50%      39.000000     1.000000    444.000000     0.000000    16.000000   \n",
       "75%      49.000000     2.000000   1480.000000     0.000000    21.000000   \n",
       "max      87.000000     3.000000  71188.000000     1.000000    31.000000   \n",
       "\n",
       "          duration     campaign        pdays     previous  \n",
       "count  4521.000000  4521.000000  4521.000000  4521.000000  \n",
       "mean    263.961292     2.793630    39.766645     0.542579  \n",
       "std     259.856633     3.109807   100.121124     1.693562  \n",
       "min       4.000000     1.000000    -1.000000     0.000000  \n",
       "25%     104.000000     1.000000    -1.000000     0.000000  \n",
       "50%     185.000000     2.000000    -1.000000     0.000000  \n",
       "75%     329.000000     3.000000    -1.000000     0.000000  \n",
       "max    3025.000000    50.000000   871.000000    25.000000  "
      ]
     },
     "execution_count": 104,
     "metadata": {},
     "output_type": "execute_result"
    }
   ],
   "source": [
    "df.describe()"
   ]
  },
  {
   "cell_type": "code",
   "execution_count": 116,
   "id": "293044d1",
   "metadata": {},
   "outputs": [],
   "source": [
    "X = ['duration','education','campaign']\n",
    "y= 'loan'"
   ]
  },
  {
   "cell_type": "code",
   "execution_count": 117,
   "id": "aea12161",
   "metadata": {},
   "outputs": [],
   "source": [
    "train_df, test_df = train_test_split(df, test_size=0.20, random_state = 2)"
   ]
  },
  {
   "cell_type": "code",
   "execution_count": 118,
   "id": "b4f311ac",
   "metadata": {},
   "outputs": [],
   "source": [
    "X_train, X_test = train_df[X], test_df[X]\n",
    "y_train, y_test = train_df[y], test_df[y]"
   ]
  },
  {
   "cell_type": "code",
   "execution_count": 119,
   "id": "70d47db5",
   "metadata": {},
   "outputs": [],
   "source": [
    "X_train, X_test = X_train.astype(int), X_test.astype(int)\n",
    "y_train, y_test = y_train.astype(int), y_test.astype(int)\n"
   ]
  },
  {
   "cell_type": "code",
   "execution_count": 120,
   "id": "7f999bcb",
   "metadata": {},
   "outputs": [],
   "source": [
    "model = LogisticRegression().fit(X_train, y_train)"
   ]
  },
  {
   "cell_type": "code",
   "execution_count": 121,
   "id": "6035ff38",
   "metadata": {},
   "outputs": [
    {
     "data": {
      "text/plain": [
       "0.8574585635359117"
      ]
     },
     "execution_count": 121,
     "metadata": {},
     "output_type": "execute_result"
    }
   ],
   "source": [
    "model.score(X_test, y_test)"
   ]
  },
  {
   "cell_type": "code",
   "execution_count": 122,
   "id": "6c2ca5db",
   "metadata": {},
   "outputs": [
    {
     "data": {
      "text/plain": [
       "count    905.000000\n",
       "mean       0.142541\n",
       "std        0.349798\n",
       "min        0.000000\n",
       "25%        0.000000\n",
       "50%        0.000000\n",
       "75%        0.000000\n",
       "max        1.000000\n",
       "Name: loan, dtype: float64"
      ]
     },
     "execution_count": 122,
     "metadata": {},
     "output_type": "execute_result"
    }
   ],
   "source": [
    "y_test.describe()"
   ]
  },
  {
   "cell_type": "code",
   "execution_count": 129,
   "id": "5a95deca",
   "metadata": {},
   "outputs": [],
   "source": [
    "probas = model.predict_proba(X_test)"
   ]
  },
  {
   "cell_type": "code",
   "execution_count": 143,
   "id": "4bb00126",
   "metadata": {},
   "outputs": [],
   "source": [
    "datas = [pd.DataFrame(probas, columns=['proba_0', 'proba_1']), pd.DataFrame(y_test.reset_index(drop=True))]"
   ]
  },
  {
   "cell_type": "code",
   "execution_count": 144,
   "id": "14efcd27",
   "metadata": {},
   "outputs": [
    {
     "data": {
      "text/html": [
       "<div>\n",
       "<style scoped>\n",
       "    .dataframe tbody tr th:only-of-type {\n",
       "        vertical-align: middle;\n",
       "    }\n",
       "\n",
       "    .dataframe tbody tr th {\n",
       "        vertical-align: top;\n",
       "    }\n",
       "\n",
       "    .dataframe thead th {\n",
       "        text-align: right;\n",
       "    }\n",
       "</style>\n",
       "<table border=\"1\" class=\"dataframe\">\n",
       "  <thead>\n",
       "    <tr style=\"text-align: right;\">\n",
       "      <th></th>\n",
       "      <th>proba_0</th>\n",
       "      <th>proba_1</th>\n",
       "      <th>loan</th>\n",
       "    </tr>\n",
       "  </thead>\n",
       "  <tbody>\n",
       "    <tr>\n",
       "      <th>0</th>\n",
       "      <td>0.843889</td>\n",
       "      <td>0.156111</td>\n",
       "      <td>0</td>\n",
       "    </tr>\n",
       "    <tr>\n",
       "      <th>1</th>\n",
       "      <td>0.856787</td>\n",
       "      <td>0.143213</td>\n",
       "      <td>1</td>\n",
       "    </tr>\n",
       "    <tr>\n",
       "      <th>2</th>\n",
       "      <td>0.837964</td>\n",
       "      <td>0.162036</td>\n",
       "      <td>0</td>\n",
       "    </tr>\n",
       "    <tr>\n",
       "      <th>3</th>\n",
       "      <td>0.836451</td>\n",
       "      <td>0.163549</td>\n",
       "      <td>0</td>\n",
       "    </tr>\n",
       "    <tr>\n",
       "      <th>4</th>\n",
       "      <td>0.810747</td>\n",
       "      <td>0.189253</td>\n",
       "      <td>0</td>\n",
       "    </tr>\n",
       "    <tr>\n",
       "      <th>...</th>\n",
       "      <td>...</td>\n",
       "      <td>...</td>\n",
       "      <td>...</td>\n",
       "    </tr>\n",
       "    <tr>\n",
       "      <th>900</th>\n",
       "      <td>0.838659</td>\n",
       "      <td>0.161341</td>\n",
       "      <td>0</td>\n",
       "    </tr>\n",
       "    <tr>\n",
       "      <th>901</th>\n",
       "      <td>0.837578</td>\n",
       "      <td>0.162422</td>\n",
       "      <td>0</td>\n",
       "    </tr>\n",
       "    <tr>\n",
       "      <th>902</th>\n",
       "      <td>0.836936</td>\n",
       "      <td>0.163064</td>\n",
       "      <td>0</td>\n",
       "    </tr>\n",
       "    <tr>\n",
       "      <th>903</th>\n",
       "      <td>0.837142</td>\n",
       "      <td>0.162858</td>\n",
       "      <td>1</td>\n",
       "    </tr>\n",
       "    <tr>\n",
       "      <th>904</th>\n",
       "      <td>0.843547</td>\n",
       "      <td>0.156453</td>\n",
       "      <td>0</td>\n",
       "    </tr>\n",
       "  </tbody>\n",
       "</table>\n",
       "<p>905 rows × 3 columns</p>\n",
       "</div>"
      ],
      "text/plain": [
       "      proba_0   proba_1  loan\n",
       "0    0.843889  0.156111     0\n",
       "1    0.856787  0.143213     1\n",
       "2    0.837964  0.162036     0\n",
       "3    0.836451  0.163549     0\n",
       "4    0.810747  0.189253     0\n",
       "..        ...       ...   ...\n",
       "900  0.838659  0.161341     0\n",
       "901  0.837578  0.162422     0\n",
       "902  0.836936  0.163064     0\n",
       "903  0.837142  0.162858     1\n",
       "904  0.843547  0.156453     0\n",
       "\n",
       "[905 rows x 3 columns]"
      ]
     },
     "execution_count": 144,
     "metadata": {},
     "output_type": "execute_result"
    }
   ],
   "source": [
    "results = pd.concat(datas, axis=1)\n",
    "results"
   ]
  },
  {
   "cell_type": "code",
   "execution_count": 145,
   "id": "bceef08e",
   "metadata": {},
   "outputs": [],
   "source": [
    "results['predcted_label'] = np.where(results['proba_0']>0.5, '0', '1')"
   ]
  },
  {
   "cell_type": "code",
   "execution_count": 146,
   "id": "95f810f4",
   "metadata": {},
   "outputs": [
    {
     "data": {
      "text/html": [
       "<div>\n",
       "<style scoped>\n",
       "    .dataframe tbody tr th:only-of-type {\n",
       "        vertical-align: middle;\n",
       "    }\n",
       "\n",
       "    .dataframe tbody tr th {\n",
       "        vertical-align: top;\n",
       "    }\n",
       "\n",
       "    .dataframe thead th {\n",
       "        text-align: right;\n",
       "    }\n",
       "</style>\n",
       "<table border=\"1\" class=\"dataframe\">\n",
       "  <thead>\n",
       "    <tr style=\"text-align: right;\">\n",
       "      <th></th>\n",
       "      <th>proba_0</th>\n",
       "      <th>proba_1</th>\n",
       "      <th>loan</th>\n",
       "      <th>predcted_label</th>\n",
       "    </tr>\n",
       "  </thead>\n",
       "  <tbody>\n",
       "    <tr>\n",
       "      <th>0</th>\n",
       "      <td>0.843889</td>\n",
       "      <td>0.156111</td>\n",
       "      <td>0</td>\n",
       "      <td>0</td>\n",
       "    </tr>\n",
       "    <tr>\n",
       "      <th>1</th>\n",
       "      <td>0.856787</td>\n",
       "      <td>0.143213</td>\n",
       "      <td>1</td>\n",
       "      <td>0</td>\n",
       "    </tr>\n",
       "    <tr>\n",
       "      <th>2</th>\n",
       "      <td>0.837964</td>\n",
       "      <td>0.162036</td>\n",
       "      <td>0</td>\n",
       "      <td>0</td>\n",
       "    </tr>\n",
       "    <tr>\n",
       "      <th>3</th>\n",
       "      <td>0.836451</td>\n",
       "      <td>0.163549</td>\n",
       "      <td>0</td>\n",
       "      <td>0</td>\n",
       "    </tr>\n",
       "    <tr>\n",
       "      <th>4</th>\n",
       "      <td>0.810747</td>\n",
       "      <td>0.189253</td>\n",
       "      <td>0</td>\n",
       "      <td>0</td>\n",
       "    </tr>\n",
       "    <tr>\n",
       "      <th>...</th>\n",
       "      <td>...</td>\n",
       "      <td>...</td>\n",
       "      <td>...</td>\n",
       "      <td>...</td>\n",
       "    </tr>\n",
       "    <tr>\n",
       "      <th>900</th>\n",
       "      <td>0.838659</td>\n",
       "      <td>0.161341</td>\n",
       "      <td>0</td>\n",
       "      <td>0</td>\n",
       "    </tr>\n",
       "    <tr>\n",
       "      <th>901</th>\n",
       "      <td>0.837578</td>\n",
       "      <td>0.162422</td>\n",
       "      <td>0</td>\n",
       "      <td>0</td>\n",
       "    </tr>\n",
       "    <tr>\n",
       "      <th>902</th>\n",
       "      <td>0.836936</td>\n",
       "      <td>0.163064</td>\n",
       "      <td>0</td>\n",
       "      <td>0</td>\n",
       "    </tr>\n",
       "    <tr>\n",
       "      <th>903</th>\n",
       "      <td>0.837142</td>\n",
       "      <td>0.162858</td>\n",
       "      <td>1</td>\n",
       "      <td>0</td>\n",
       "    </tr>\n",
       "    <tr>\n",
       "      <th>904</th>\n",
       "      <td>0.843547</td>\n",
       "      <td>0.156453</td>\n",
       "      <td>0</td>\n",
       "      <td>0</td>\n",
       "    </tr>\n",
       "  </tbody>\n",
       "</table>\n",
       "<p>905 rows × 4 columns</p>\n",
       "</div>"
      ],
      "text/plain": [
       "      proba_0   proba_1  loan predcted_label\n",
       "0    0.843889  0.156111     0              0\n",
       "1    0.856787  0.143213     1              0\n",
       "2    0.837964  0.162036     0              0\n",
       "3    0.836451  0.163549     0              0\n",
       "4    0.810747  0.189253     0              0\n",
       "..        ...       ...   ...            ...\n",
       "900  0.838659  0.161341     0              0\n",
       "901  0.837578  0.162422     0              0\n",
       "902  0.836936  0.163064     0              0\n",
       "903  0.837142  0.162858     1              0\n",
       "904  0.843547  0.156453     0              0\n",
       "\n",
       "[905 rows x 4 columns]"
      ]
     },
     "execution_count": 146,
     "metadata": {},
     "output_type": "execute_result"
    }
   ],
   "source": [
    "results"
   ]
  },
  {
   "cell_type": "code",
   "execution_count": null,
   "id": "eb11429c",
   "metadata": {},
   "outputs": [],
   "source": []
  }
 ],
 "metadata": {
  "kernelspec": {
   "display_name": "Python 3 (ipykernel)",
   "language": "python",
   "name": "python3"
  },
  "language_info": {
   "codemirror_mode": {
    "name": "ipython",
    "version": 3
   },
   "file_extension": ".py",
   "mimetype": "text/x-python",
   "name": "python",
   "nbconvert_exporter": "python",
   "pygments_lexer": "ipython3",
   "version": "3.11.4"
  }
 },
 "nbformat": 4,
 "nbformat_minor": 5
}
